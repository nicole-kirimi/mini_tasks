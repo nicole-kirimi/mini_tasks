{
  "cells": [
    {
      "cell_type": "markdown",
      "metadata": {
        "id": "view-in-github",
        "colab_type": "text"
      },
      "source": [
        "<a href=\"https://colab.research.google.com/github/nicole-kirimi/mini_tasks/blob/main/mini_dicts.ipynb\" target=\"_parent\"><img src=\"https://colab.research.google.com/assets/colab-badge.svg\" alt=\"Open In Colab\"/></a>"
      ]
    },
    {
      "cell_type": "code",
      "execution_count": null,
      "id": "8f0c39dd-6c98-496a-ad9c-2b53508a88c3",
      "metadata": {
        "id": "8f0c39dd-6c98-496a-ad9c-2b53508a88c3"
      },
      "outputs": [],
      "source": [
        "# 1. Create a dictionary called student with:\n",
        "# Keys: \"name\", \"age\", \"grade\"\n",
        "# Values: \"Alice\", 14, \"B\"\n",
        "\n",
        "student = {\n",
        "    \"name\": \"Alice\",\n",
        "    \"age\": 14,\n",
        "    \"grade\": \"B\"\n",
        "}"
      ]
    },
    {
      "cell_type": "code",
      "execution_count": null,
      "id": "076dcb96-572c-4f13-bdda-6776830e5122",
      "metadata": {
        "colab": {
          "base_uri": "https://localhost:8080/"
        },
        "id": "076dcb96-572c-4f13-bdda-6776830e5122",
        "outputId": "ab74ed69-b152-4165-def8-ac7770d11a25"
      },
      "outputs": [
        {
          "output_type": "stream",
          "name": "stdout",
          "text": [
            "Alice\n"
          ]
        }
      ],
      "source": [
        "# 1.1. Access and print the student's name from the dictionary.\n",
        "print(student[\"name\"])"
      ]
    },
    {
      "cell_type": "code",
      "execution_count": null,
      "id": "3b767b4e-1f63-493b-a8d9-2f5774f49d15",
      "metadata": {
        "colab": {
          "base_uri": "https://localhost:8080/"
        },
        "id": "3b767b4e-1f63-493b-a8d9-2f5774f49d15",
        "outputId": "e9dbf3ec-4509-43a4-9384-59c6de696886"
      },
      "outputs": [
        {
          "output_type": "stream",
          "name": "stdout",
          "text": [
            "A\n"
          ]
        }
      ],
      "source": [
        "# 1.2. Change the student's grade to \"A\".\n",
        "student[\"grade\"] = \"A\"\n",
        "print(student[\"grade\"])"
      ]
    },
    {
      "cell_type": "code",
      "execution_count": null,
      "id": "7dc0a571-032e-414a-babb-742849faadb8",
      "metadata": {
        "colab": {
          "base_uri": "https://localhost:8080/"
        },
        "id": "7dc0a571-032e-414a-babb-742849faadb8",
        "outputId": "66308911-4191-4aa5-b6c8-730c1eab14cd"
      },
      "outputs": [
        {
          "output_type": "stream",
          "name": "stdout",
          "text": [
            "{'name': 'Alice', 'age': 14, 'grade': 'A', 'school': 'Greenwood High'}\n"
          ]
        }
      ],
      "source": [
        "# 1.3. Add a new key called \"school\" with the value \"Greenwood High\".\n",
        "student[\"school\"] = \"Greenwood High\"\n",
        "print(student)"
      ]
    },
    {
      "cell_type": "code",
      "execution_count": null,
      "id": "ff9589a6-0320-4891-b9fa-2405d66b20d1",
      "metadata": {
        "colab": {
          "base_uri": "https://localhost:8080/"
        },
        "id": "ff9589a6-0320-4891-b9fa-2405d66b20d1",
        "outputId": "8757952e-acd0-40cc-b408-74942a16c324"
      },
      "outputs": [
        {
          "output_type": "stream",
          "name": "stdout",
          "text": [
            "{'name': 'Alice', 'grade': 'A', 'school': 'Greenwood High'}\n"
          ]
        }
      ],
      "source": [
        "# 1.4. Delete the \"age\" key from the dictionary.\n",
        "del student[\"age\"]\n",
        "print(student)"
      ]
    },
    {
      "cell_type": "code",
      "execution_count": null,
      "id": "77d659da-4363-4917-8f9e-194035c5cfac",
      "metadata": {
        "colab": {
          "base_uri": "https://localhost:8080/"
        },
        "id": "77d659da-4363-4917-8f9e-194035c5cfac",
        "outputId": "03380730-3bf4-4c7a-d787-eed6be77f293"
      },
      "outputs": [
        {
          "output_type": "stream",
          "name": "stdout",
          "text": [
            "name: Bob\n",
            "age: 30\n",
            "city: Nairobi\n"
          ]
        }
      ],
      "source": [
        "# 2. Loop through the following dictionary and print each key and value:\n",
        "person = {\"name\": \"Bob\", \"age\": 30, \"city\": \"Nairobi\"}\n",
        "for key, value in person.items():\n",
        "    print(f\"{key}: {value}\")"
      ]
    },
    {
      "cell_type": "code",
      "execution_count": null,
      "id": "b2e48674-a4b4-449d-90d8-1c370ac9d35a",
      "metadata": {
        "colab": {
          "base_uri": "https://localhost:8080/"
        },
        "id": "b2e48674-a4b4-449d-90d8-1c370ac9d35a",
        "outputId": "06d95760-d3d1-4613-b06e-ab3a6a7ab57e"
      },
      "outputs": [
        {
          "output_type": "stream",
          "name": "stdout",
          "text": [
            "name\n",
            "age\n",
            "city\n"
          ]
        }
      ],
      "source": [
        "# 2.1. Loop through and print only the keys from the dictionary above.\n",
        "for key in person.keys():\n",
        "    print(key)"
      ]
    },
    {
      "cell_type": "code",
      "execution_count": null,
      "id": "31ff89f7-245c-4861-b633-f849e4e3a036",
      "metadata": {
        "colab": {
          "base_uri": "https://localhost:8080/"
        },
        "id": "31ff89f7-245c-4861-b633-f849e4e3a036",
        "outputId": "4452f401-f145-4e7a-db03-cd1891fb8440"
      },
      "outputs": [
        {
          "output_type": "stream",
          "name": "stdout",
          "text": [
            "Bob\n",
            "30\n",
            "Nairobi\n"
          ]
        }
      ],
      "source": [
        "# 2.2. Loop through and print only the values.\n",
        "for value in person.values():\n",
        "    print(value)"
      ]
    },
    {
      "cell_type": "code",
      "execution_count": null,
      "id": "035802a7-2259-4066-a680-aaabe2dc6760",
      "metadata": {
        "colab": {
          "base_uri": "https://localhost:8080/"
        },
        "id": "035802a7-2259-4066-a680-aaabe2dc6760",
        "outputId": "cfbbcfd3-4339-4e8a-a0eb-52370fa4276c"
      },
      "outputs": [
        {
          "output_type": "stream",
          "name": "stdout",
          "text": [
            "Not provided\n"
          ]
        }
      ],
      "source": [
        "# 2.3. Use .get() to retrieve the value of a key called \"email\" from person. If it doesn’t exist, return \"Not provided\".\n",
        "print(person.get(\"email\", \"Not provided\"))"
      ]
    },
    {
      "cell_type": "code",
      "execution_count": null,
      "id": "2d3f336d-db5a-432a-815c-148b6c993129",
      "metadata": {
        "colab": {
          "base_uri": "https://localhost:8080/"
        },
        "id": "2d3f336d-db5a-432a-815c-148b6c993129",
        "outputId": "a087983b-62ea-452b-ce4f-935b96935b43"
      },
      "outputs": [
        {
          "output_type": "stream",
          "name": "stdout",
          "text": [
            "True\n"
          ]
        }
      ],
      "source": [
        "# 2.4. Check if the key \"city\" exists in the dictionary.\n",
        "print(\"city\" in person)"
      ]
    },
    {
      "cell_type": "code",
      "execution_count": null,
      "id": "83db2716-90a4-4e8c-8675-fd48d713b1c5",
      "metadata": {
        "colab": {
          "base_uri": "https://localhost:8080/"
        },
        "id": "83db2716-90a4-4e8c-8675-fd48d713b1c5",
        "outputId": "c645f49e-a2cb-48d2-9c52-83d95f6e4c32"
      },
      "outputs": [
        {
          "output_type": "stream",
          "name": "stdout",
          "text": [
            "{'name': 'Bob', 'age': 30, 'city': 'Mombasa', 'email': 'bob@example.com'}\n"
          ]
        }
      ],
      "source": [
        "# 2.5. Use .update() to add or modify multiple values:\n",
        "# Update \"city\" to \"Mombasa\" and add \"email\": \"bob@example.com\"\n",
        "person.update({\"city\": \"Mombasa\", \"email\": \"bob@example.com\"})\n",
        "print(person)"
      ]
    },
    {
      "cell_type": "code",
      "execution_count": null,
      "id": "07639fcc-be52-48ed-a015-47a0963d17cf",
      "metadata": {
        "colab": {
          "base_uri": "https://localhost:8080/"
        },
        "id": "07639fcc-be52-48ed-a015-47a0963d17cf",
        "outputId": "ed7d4be7-0b28-421b-b012-309747a64869"
      },
      "outputs": [
        {
          "output_type": "stream",
          "name": "stdout",
          "text": [
            "[{'name': 'Nicole', 'age': 20, 'grade': '80'}, {'name': 'Natalie', 'age': 21, 'grade': '85'}]\n"
          ]
        }
      ],
      "source": [
        "# 3. Create a list of 3 students, each represented as a dictionary:\n",
        "# Each dictionary should have keys: \"name\", \"age\", \"grade\"\n",
        "Students = [\n",
        "    {\"name\": \"Nicole\",\n",
        "     \"age\": 20,\n",
        "     \"grade\": \"80\"\n",
        "     },\n",
        "    {\"name\": \"Natalie\",\n",
        "     \"age\": 21,\n",
        "     \"grade\": \"85\"\n",
        "    }\n",
        "]\n",
        "print(Students)"
      ]
    },
    {
      "cell_type": "code",
      "execution_count": null,
      "id": "ee4d22b2-e540-48cf-a547-0dc526c60f79",
      "metadata": {
        "colab": {
          "base_uri": "https://localhost:8080/"
        },
        "id": "ee4d22b2-e540-48cf-a547-0dc526c60f79",
        "outputId": "62ea3aac-672f-4660-bcf5-814d7cfc9946"
      },
      "outputs": [
        {
          "output_type": "stream",
          "name": "stdout",
          "text": [
            "Nicole got 80\n",
            "Natalie got 85\n"
          ]
        }
      ],
      "source": [
        "# 3.1. Loop through the list and print the name and grade of each student.\n",
        "for student in Students:\n",
        "    print(f\"{student['name']} got {student['grade']}\")"
      ]
    },
    {
      "cell_type": "code",
      "execution_count": null,
      "id": "011c715e-b1ad-4b8f-b1c7-3aa4f51cffb6",
      "metadata": {
        "colab": {
          "base_uri": "https://localhost:8080/"
        },
        "id": "011c715e-b1ad-4b8f-b1c7-3aa4f51cffb6",
        "outputId": "be62a2b4-e999-4d18-9121-3421c58f428b"
      },
      "outputs": [
        {
          "output_type": "stream",
          "name": "stdout",
          "text": [
            "82.5\n"
          ]
        }
      ],
      "source": [
        "# 3.2. Write a loop to calculate the average grade (assuming grades are numbers).\n",
        "total_grade = 0\n",
        "for student in Students:\n",
        "    total_grade += int(student[\"grade\"])\n",
        "average_grade = total_grade / len(Students)\n",
        "print(average_grade)"
      ]
    },
    {
      "cell_type": "code",
      "execution_count": null,
      "id": "ad3c783b-56f9-4a38-810e-9ff939954eea",
      "metadata": {
        "colab": {
          "base_uri": "https://localhost:8080/"
        },
        "id": "ad3c783b-56f9-4a38-810e-9ff939954eea",
        "outputId": "553a2805-927a-420b-bf0a-fdb737312e15"
      },
      "outputs": [
        {
          "output_type": "stream",
          "name": "stdout",
          "text": [
            "{'apple': 3, 'banana': 2, 'cherry': 1}\n"
          ]
        }
      ],
      "source": [
        "# 4. Create a dictionary to count how many times each word appears in this list:\n",
        "# Output should be:\n",
        "# {\"apple\": 3, \"banana\": 2, \"cherry\": 1}\n",
        "words = [\"apple\", \"banana\", \"apple\", \"cherry\", \"banana\", \"apple\"]\n",
        "word_count = {}\n",
        "for word in words:\n",
        "    if word in word_count:\n",
        "        word_count[word] += 1\n",
        "    else:\n",
        "        word_count[word] = 1\n",
        "print(word_count)"
      ]
    },
    {
      "cell_type": "code",
      "execution_count": null,
      "id": "b5a3da38-7a34-4992-bde6-87e227437a63",
      "metadata": {
        "colab": {
          "base_uri": "https://localhost:8080/"
        },
        "id": "b5a3da38-7a34-4992-bde6-87e227437a63",
        "outputId": "d72108bc-c9db-4fe3-8460-92ae92930d98"
      },
      "outputs": [
        {
          "output_type": "stream",
          "name": "stdout",
          "text": [
            "What operation do you want(add, search or leave)?Mary\n",
            "Invalid option\n",
            "What operation do you want(add, search or leave)?add\n",
            "Enter a name: Mary\n",
            "Enter a phone number: 5678\n",
            "Added successfully!\n",
            "What operation do you want(add, search or leave)?search\n",
            "Enter a name to search: Nicole\n",
            "Not found\n",
            "What operation do you want(add, search or leave)?search\n",
            "Enter a name to search: Mary\n",
            "5678\n",
            "What operation do you want(add, search or leave)?leave\n",
            "Goodbye\n"
          ]
        }
      ],
      "source": [
        "# 5. Build a simple phonebook:\n",
        "# Ask the user to enter names and phone numbers\n",
        "# Store them in a dictionary\n",
        "# Allow the user to look up numbers by name\n",
        "phonebook = {}\n",
        "def add():\n",
        "    name = input(\"Enter a name: \")\n",
        "    phone = int(input(\"Enter a phone number: \"))\n",
        "    phonebook[name] = phone\n",
        "    print(\"Added successfully!\")\n",
        "\n",
        "def search():\n",
        "    name = input(\"Enter a name to search: \")\n",
        "    print(phonebook.get(name, \"Not found\"))\n",
        "\n",
        "def exit_app():\n",
        "    print(\"Goodbye\")\n",
        "\n",
        "while True:\n",
        "    option = input(\"What operation do you want(add, search or leave)?\")\n",
        "    if option == \"add\":\n",
        "        add()\n",
        "    elif option == \"search\":\n",
        "        search()\n",
        "    elif option == \"leave\":\n",
        "        exit_app()\n",
        "        break\n",
        "    else:\n",
        "        print(\"Invalid option\")"
      ]
    },
    {
      "cell_type": "code",
      "source": [],
      "metadata": {
        "id": "tQ_dhuqPSx7t"
      },
      "id": "tQ_dhuqPSx7t",
      "execution_count": null,
      "outputs": []
    }
  ],
  "metadata": {
    "kernelspec": {
      "display_name": "Python [conda env:base] *",
      "language": "python",
      "name": "conda-base-py"
    },
    "language_info": {
      "codemirror_mode": {
        "name": "ipython",
        "version": 3
      },
      "file_extension": ".py",
      "mimetype": "text/x-python",
      "name": "python",
      "nbconvert_exporter": "python",
      "pygments_lexer": "ipython3",
      "version": "3.12.7"
    },
    "colab": {
      "provenance": [],
      "include_colab_link": true
    }
  },
  "nbformat": 4,
  "nbformat_minor": 5
}