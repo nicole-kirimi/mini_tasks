{
  "cells": [
    {
      "cell_type": "markdown",
      "metadata": {
        "id": "view-in-github",
        "colab_type": "text"
      },
      "source": [
        "<a href=\"https://colab.research.google.com/github/nicole-kirimi/mini_tasks/blob/main/mini_ifs.ipynb\" target=\"_parent\"><img src=\"https://colab.research.google.com/assets/colab-badge.svg\" alt=\"Open In Colab\"/></a>"
      ]
    },
    {
      "cell_type": "markdown",
      "id": "633aa2ce-62cd-4b3b-b177-05c119fac55e",
      "metadata": {
        "id": "633aa2ce-62cd-4b3b-b177-05c119fac55e"
      },
      "source": [
        "### practice on how to use if, elif, else / and, or, not"
      ]
    },
    {
      "cell_type": "code",
      "execution_count": null,
      "id": "045cd2ca-73fa-479c-8d9f-2de0ad171d2c",
      "metadata": {
        "colab": {
          "base_uri": "https://localhost:8080/"
        },
        "id": "045cd2ca-73fa-479c-8d9f-2de0ad171d2c",
        "outputId": "d68634e6-5933-4f66-96d0-73bd195c4ede"
      },
      "outputs": [
        {
          "output_type": "stream",
          "name": "stdout",
          "text": [
            "Enter a number:1\n",
            "Positive number\n"
          ]
        }
      ],
      "source": [
        "# 1. Write a program that checks if a number is positive.\n",
        "# Input: 5\n",
        "# Output: Positive number\n",
        "number = int(input(\"Enter a number:\"))\n",
        "if number > 0:\n",
        "    print(\"Positive number\")\n",
        "else:\n",
        "    print(\"Negative number\")"
      ]
    },
    {
      "cell_type": "code",
      "execution_count": null,
      "id": "c3426473-e823-4c69-9896-6a3307edb695",
      "metadata": {
        "colab": {
          "base_uri": "https://localhost:8080/"
        },
        "id": "c3426473-e823-4c69-9896-6a3307edb695",
        "outputId": "4a437449-4b73-44cc-979d-052636be6eeb"
      },
      "outputs": [
        {
          "output_type": "stream",
          "name": "stdout",
          "text": [
            "Enter a number:3\n",
            "Odd number\n"
          ]
        }
      ],
      "source": [
        "# 2. Check if a given number is even or odd.\n",
        "# Input: 7\n",
        "# Output: Odd number\n",
        "number = int(input(\"Enter a number:\"))\n",
        "if number % 2 == 0:\n",
        "    print(\"Even number\")\n",
        "else:\n",
        "    print(\"Odd number\")"
      ]
    },
    {
      "cell_type": "code",
      "execution_count": null,
      "id": "79b20101-7cf8-43d5-a85f-4ecd04cefc1a",
      "metadata": {
        "colab": {
          "base_uri": "https://localhost:8080/"
        },
        "id": "79b20101-7cf8-43d5-a85f-4ecd04cefc1a",
        "outputId": "57fedeb7-eb31-4807-bcfe-eb59df144fe7"
      },
      "outputs": [
        {
          "output_type": "stream",
          "name": "stdout",
          "text": [
            "Enter your age:50\n",
            "You are an adult.\n"
          ]
        }
      ],
      "source": [
        "# 3. Ask the user for their age. If they are 18 or older, print \"You are an adult.\"\n",
        "age = int(input(\"Enter your age:\"))\n",
        "if age >= 18:\n",
        "    print(\"You are an adult.\")\n",
        "else:\n",
        "    print(\"You are not an adult.\")"
      ]
    },
    {
      "cell_type": "code",
      "execution_count": null,
      "id": "3f11821a-57e9-4615-97c9-4724bd31801e",
      "metadata": {
        "colab": {
          "base_uri": "https://localhost:8080/"
        },
        "id": "3f11821a-57e9-4615-97c9-4724bd31801e",
        "outputId": "9f229f47-8e1b-45d7-dd88-da0c80b23281"
      },
      "outputs": [
        {
          "output_type": "stream",
          "name": "stdout",
          "text": [
            "Enter a password:wsfg\n",
            "Wrong password\n"
          ]
        }
      ],
      "source": [
        "# 4. Ask the user to enter a password. If it matches \"secret\", print \"Access granted\"; otherwise, print \"Wrong password\".\n",
        "password = input(\"Enter a password:\")\n",
        "if password == \"secret\":\n",
        "    print(\"Access granted\")\n",
        "else:\n",
        "    print(\"Wrong password\")"
      ]
    },
    {
      "cell_type": "code",
      "execution_count": null,
      "id": "fa2f9839-006f-45e8-b259-a5a7421a5aeb",
      "metadata": {
        "colab": {
          "base_uri": "https://localhost:8080/"
        },
        "id": "fa2f9839-006f-45e8-b259-a5a7421a5aeb",
        "outputId": "0c0592d2-68fc-4617-ef6f-0447099a53b9"
      },
      "outputs": [
        {
          "output_type": "stream",
          "name": "stdout",
          "text": [
            "Enter a number:3\n",
            "Odd number\n"
          ]
        }
      ],
      "source": [
        "# 5. Ask the user for a number and print whether it is even or odd.\n",
        "number = int(input(\"Enter a number:\"))\n",
        "if number % 2 == 0:\n",
        "    print(\"Even number\")\n",
        "else:\n",
        "    print(\"Odd number\")"
      ]
    },
    {
      "cell_type": "code",
      "execution_count": null,
      "id": "6a8b081a-bbda-437b-8e0c-c58dce7d01d1",
      "metadata": {
        "colab": {
          "base_uri": "https://localhost:8080/"
        },
        "id": "6a8b081a-bbda-437b-8e0c-c58dce7d01d1",
        "outputId": "26eddec9-a7f6-474a-b3aa-8572ba8ca737"
      },
      "outputs": [
        {
          "output_type": "stream",
          "name": "stdout",
          "text": [
            "Enter a number:9\n",
            "Hit\n"
          ]
        }
      ],
      "source": [
        "# 6. Check whether a number is divisible by 3 given by a user. If it is, print \"Hit\"; otherwise, print \"Miss\".\n",
        "number = int(input(\"Enter a number:\"))\n",
        "if number % 3 == 0:\n",
        "    print(\"Hit\")\n",
        "else:\n",
        "    print(\"Miss\")"
      ]
    },
    {
      "cell_type": "code",
      "execution_count": null,
      "id": "53650feb-792d-49ce-97d7-db602397df81",
      "metadata": {
        "colab": {
          "base_uri": "https://localhost:8080/"
        },
        "id": "53650feb-792d-49ce-97d7-db602397df81",
        "outputId": "73f1be49-e979-4773-af76-984943116dec"
      },
      "outputs": [
        {
          "output_type": "stream",
          "name": "stdout",
          "text": [
            "Enter a number:0\n",
            "Zero\n"
          ]
        }
      ],
      "source": [
        "# 7. Ask the user for a number and print whether it is positive, negative, or zero.\n",
        "number = int(input(\"Enter a number:\"))\n",
        "if number > 0:\n",
        "    print(\"Positive number\")\n",
        "elif number < 0:\n",
        "    print(\"Negative number\")\n",
        "elif number == 0:\n",
        "    print(\"Zero\")"
      ]
    },
    {
      "cell_type": "code",
      "execution_count": null,
      "id": "896e8d7e-1c5c-4501-a297-56a66cf0f56b",
      "metadata": {
        "colab": {
          "base_uri": "https://localhost:8080/"
        },
        "id": "896e8d7e-1c5c-4501-a297-56a66cf0f56b",
        "outputId": "03807f87-2ae3-4d3e-f944-8a39a9a4905f"
      },
      "outputs": [
        {
          "output_type": "stream",
          "name": "stdout",
          "text": [
            "Enter your grade:67\n",
            "B\n"
          ]
        }
      ],
      "source": [
        "# 8. Ask for a grade (0–100) and print:\n",
        "# \"A\" if 80 and above\n",
        "# \"B\" if 60–79\n",
        "# \"C\" if 40–59\n",
        "# \"F\" if below 40\n",
        "grade = int(input(\"Enter your grade:\"))\n",
        "if grade >= 80:\n",
        "    print(\"A\")\n",
        "elif grade >= 60 and grade <= 79:\n",
        "    print(\"B\")\n",
        "elif grade >= 40 and grade <=59:\n",
        "    print(\"C\")\n",
        "elif grade < 40:\n",
        "    print(\"F\")"
      ]
    },
    {
      "cell_type": "code",
      "execution_count": null,
      "id": "b5caba9f-2a47-4661-a2a1-dc43eb26f302",
      "metadata": {
        "colab": {
          "base_uri": "https://localhost:8080/"
        },
        "id": "b5caba9f-2a47-4661-a2a1-dc43eb26f302",
        "outputId": "22778d71-2b79-49bd-8106-1e63b0be310d"
      },
      "outputs": [
        {
          "output_type": "stream",
          "name": "stdout",
          "text": [
            "Enter your first number:8\n",
            "Enter your second number:2\n",
            "Enter an operation:add\n",
            "10\n"
          ]
        }
      ],
      "source": [
        "# 9. Create a simple calculator:\n",
        "# Ask for two numbers and an operator (+, -, *, /)\n",
        "# Use if statements to compute the result\n",
        "num1 = int(input(\"Enter your first number:\"))\n",
        "num2 = int(input(\"Enter your second number:\"))\n",
        "operator = input(\"Enter an operation:\")\n",
        "if operator == \"add\":\n",
        "    print(num1 + num2)\n",
        "elif operator == \"subtract\":\n",
        "    print(num1 - num2)\n",
        "elif operator == \"multiply\":\n",
        "    print(num1 * num2)\n",
        "elif operator == \"divide\":\n",
        "    print(num1 / num2)"
      ]
    },
    {
      "cell_type": "code",
      "execution_count": null,
      "id": "fe1a788d-3294-41a5-aa4e-fe327f67fb52",
      "metadata": {
        "colab": {
          "base_uri": "https://localhost:8080/"
        },
        "id": "fe1a788d-3294-41a5-aa4e-fe327f67fb52",
        "outputId": "e683abd2-cbef-4594-eaa1-9708d312ec48"
      },
      "outputs": [
        {
          "output_type": "stream",
          "name": "stdout",
          "text": [
            "Enter your age:17\n",
            "Teenager\n"
          ]
        }
      ],
      "source": [
        "# 10. Ask the user for their age. If they are between 13 and 19 (inclusive), print \"Teenager\".\n",
        "age = int(input(\"Enter your age:\"))\n",
        "if age >= 13 and age <= 19:\n",
        "    print(\"Teenager\")\n",
        "else:\n",
        "    print(\"Not a teenager\")"
      ]
    },
    {
      "cell_type": "code",
      "execution_count": null,
      "id": "1ea00dbf-1b31-4a33-a673-37e64c00bec3",
      "metadata": {
        "colab": {
          "base_uri": "https://localhost:8080/"
        },
        "id": "1ea00dbf-1b31-4a33-a673-37e64c00bec3",
        "outputId": "2e4f9884-fc7b-41c0-c05f-0f3db424efaa"
      },
      "outputs": [
        {
          "output_type": "stream",
          "name": "stdout",
          "text": [
            "Enter a year:2000\n",
            "Leap year\n"
          ]
        }
      ],
      "source": [
        "# 11. Check if a year is a leap year:\n",
        "# leap years are those that are divisible by 4 e.g. 2020\n",
        "# leap years are not divisible by 100 except for those that are also divisible by 400\n",
        "year = int(input(\"Enter a year:\"))\n",
        "if year % 4 == 0:\n",
        "    print(\"Leap year\")\n",
        "else:\n",
        "    print(\"Not a leap year\")"
      ]
    },
    {
      "cell_type": "code",
      "execution_count": null,
      "id": "1205bda1-fb79-490b-87f2-bfb7ad31cf5f",
      "metadata": {
        "colab": {
          "base_uri": "https://localhost:8080/"
        },
        "id": "1205bda1-fb79-490b-87f2-bfb7ad31cf5f",
        "outputId": "38c78cc7-5a86-4126-e044-d714038a3067"
      },
      "outputs": [
        {
          "output_type": "stream",
          "name": "stdout",
          "text": [
            "Enter a username:admin\n",
            "Enter a password:rtyu\n",
            "Access denied\n"
          ]
        }
      ],
      "source": [
        "# 12. Ask for a password and username. Allow login only if both match the correct values.\n",
        "username = input(\"Enter a username:\")\n",
        "password = input(\"Enter a password:\")\n",
        "if password  == \"secret\" and username == \"admin\":\n",
        "    print(\"Access granted\")\n",
        "else:\n",
        "    print(\"Access denied\")"
      ]
    },
    {
      "cell_type": "code",
      "execution_count": null,
      "id": "800d597a-86b4-432b-9f0d-602e56fcdec2",
      "metadata": {
        "id": "800d597a-86b4-432b-9f0d-602e56fcdec2",
        "colab": {
          "base_uri": "https://localhost:8080/"
        },
        "outputId": "c8b86a78-e9b3-4c3e-abac-836164e78def"
      },
      "outputs": [
        {
          "output_type": "stream",
          "name": "stdout",
          "text": [
            "Enter a username:admin\n",
            "Enter a password:secret\n",
            "Welcome, admin!\n"
          ]
        }
      ],
      "source": [
        "# 13.Ask for a username. If it is \"admin\", then ask for a password. If both are correct, print \"Welcome, admin!\"\n",
        "username = input(\"Enter a username:\")\n",
        "if username == \"admin\":\n",
        "    password = input(\"Enter a password:\")\n",
        "    if password == \"secret\":\n",
        "        print(\"Welcome, admin!\")\n",
        "    else:\n",
        "        print(\"Wrong password\")\n",
        "else:\n",
        "    print(\"Wrong username\")"
      ]
    },
    {
      "cell_type": "code",
      "execution_count": null,
      "id": "17d635f5-518e-46fb-88a2-e107aa0bf130",
      "metadata": {
        "id": "17d635f5-518e-46fb-88a2-e107aa0bf130",
        "colab": {
          "base_uri": "https://localhost:8080/"
        },
        "outputId": "68f72b21-f574-424d-dc2a-e7fbe2b66b13"
      },
      "outputs": [
        {
          "output_type": "stream",
          "name": "stdout",
          "text": [
            "Enter your first number:4\n",
            "Enter your second number:7\n",
            "One is even\n"
          ]
        }
      ],
      "source": [
        "# 14. Ask a user to enter two numbers. If both numbers are even, print \"Both are even\"; if one is even, print \"One is even\"; otherwise print \"None are even\".\n",
        "num1 = int(input(\"Enter your first number:\"))\n",
        "num2 = int(input(\"Enter your second number:\"))\n",
        "if num1 % 2 == 0 and num2 % 2 == 0:\n",
        "    print(\"Both are even\")\n",
        "elif num1 % 2 == 0 or num2 % 2 == 0:\n",
        "    print(\"One is even\")\n",
        "else:\n",
        "    print(\"None are even\")"
      ]
    },
    {
      "cell_type": "code",
      "execution_count": null,
      "id": "0ce02b24-1df8-4b1f-8ce9-e11e03c57932",
      "metadata": {
        "id": "0ce02b24-1df8-4b1f-8ce9-e11e03c57932",
        "colab": {
          "base_uri": "https://localhost:8080/"
        },
        "outputId": "02a6ab47-f483-451d-a920-883c56f031ec"
      },
      "outputs": [
        {
          "output_type": "stream",
          "name": "stdout",
          "text": [
            "Enter your first mark:50\n",
            "Enter your second mark:70\n",
            "Enter your third mark:78\n",
            "Passed\n"
          ]
        }
      ],
      "source": [
        "# 15. Ask the user for marks in three subjects. If the average is above 50, print \"Passed\"; otherwise, print \"Failed\".\n",
        "mark1 = int(input(\"Enter your first mark:\"))\n",
        "mark2 = int(input(\"Enter your second mark:\"))\n",
        "mark3 = int(input(\"Enter your third mark:\"))\n",
        "average = (mark1 + mark2 + mark3) / 3\n",
        "if average > 50:\n",
        "    print(\"Passed\")\n",
        "else:\n",
        "    print(\"Failed\")"
      ]
    },
    {
      "cell_type": "code",
      "execution_count": null,
      "id": "6439a058-6433-4064-a58f-2eeb3138ad25",
      "metadata": {
        "id": "6439a058-6433-4064-a58f-2eeb3138ad25",
        "colab": {
          "base_uri": "https://localhost:8080/"
        },
        "outputId": "48284ecc-0725-46a2-e00f-6cfec3f7b32f"
      },
      "outputs": [
        {
          "output_type": "stream",
          "name": "stdout",
          "text": [
            "Enter your choice:rock\n",
            "Enter your choice:rock\n",
            "Draw\n"
          ]
        }
      ],
      "source": [
        "# 16. Rock, Paper, Scissors Game (2 players)\n",
        "# Ask both players to enter their choice\n",
        "# Decide who wins based on rules(research the rules)\n",
        "player1 = input(\"Enter your choice:\")\n",
        "player2 = input(\"Enter your choice:\")\n",
        "if player1 == \"rock\" and player2 == \"scissors\":\n",
        "    print(\"Player 1 wins\")\n",
        "if player1 == \"scissors\" and player2 == \"paper\":\n",
        "    print(\"Player 1 wins\")\n",
        "if player1 == \"paper\" and player2 == \"rock\":\n",
        "    print(\"Player 1 wins\")\n",
        "if player2 == \"rock\" and player1 == \"scissors\":\n",
        "    print(\"Player 2 wins\")\n",
        "if player2 == \"scissors\" and player1 == \"paper\":\n",
        "    print(\"Player 2 wins\")\n",
        "if player2 == \"paper\" and player1 == \"rock\":\n",
        "    print(\"Player 2 wins\")\n",
        "else:\n",
        "    print(\"Draw\")"
      ]
    },
    {
      "cell_type": "code",
      "execution_count": null,
      "id": "25c23375-d5fc-4cff-aae4-43dcf6076461",
      "metadata": {
        "id": "25c23375-d5fc-4cff-aae4-43dcf6076461",
        "colab": {
          "base_uri": "https://localhost:8080/"
        },
        "outputId": "6d044b53-d2ee-46db-881d-79db1a576f1f"
      },
      "outputs": [
        {
          "output_type": "stream",
          "name": "stdout",
          "text": [
            "Enter a number:17\n",
            "Prime number\n"
          ]
        }
      ],
      "source": [
        "# 17. Ask the user for a number and check if it's a prime number (Hint: A prime number has only two factors)\n",
        "num1 = int(input(\"Enter a number:\"))\n",
        "for i in range(2, num1):\n",
        "    if num1 % i == 0:\n",
        "        print(\"Not a prime number\")\n",
        "        break\n",
        "else:\n",
        "    print(\"Prime number\")"
      ]
    },
    {
      "cell_type": "code",
      "execution_count": null,
      "id": "c7b16d61-eab5-47ae-9301-ba7f55f97ba7",
      "metadata": {
        "id": "c7b16d61-eab5-47ae-9301-ba7f55f97ba7",
        "colab": {
          "base_uri": "https://localhost:8080/"
        },
        "outputId": "baefee9a-fbde-489d-87fe-5497cfc0f097"
      },
      "outputs": [
        {
          "output_type": "stream",
          "name": "stdout",
          "text": [
            "Enter a number:16\n",
            "Perfect square\n"
          ]
        }
      ],
      "source": [
        "# 18. Ask the user to enter a number and check if it’s a perfect square.\n",
        "num = int(input(\"Enter a number:\"))\n",
        "for i in range(1, num):\n",
        "    if i * i == num:\n",
        "        print(\"Perfect square\")\n",
        "        break\n",
        "else:\n",
        "    print(\"Not a perfect square\")"
      ]
    }
  ],
  "metadata": {
    "kernelspec": {
      "display_name": "Python [conda env:base] *",
      "language": "python",
      "name": "conda-base-py"
    },
    "language_info": {
      "codemirror_mode": {
        "name": "ipython",
        "version": 3
      },
      "file_extension": ".py",
      "mimetype": "text/x-python",
      "name": "python",
      "nbconvert_exporter": "python",
      "pygments_lexer": "ipython3",
      "version": "3.12.7"
    },
    "colab": {
      "provenance": [],
      "include_colab_link": true
    }
  },
  "nbformat": 4,
  "nbformat_minor": 5
}