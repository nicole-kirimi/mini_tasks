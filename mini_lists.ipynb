{
  "cells": [
    {
      "cell_type": "markdown",
      "metadata": {
        "id": "view-in-github",
        "colab_type": "text"
      },
      "source": [
        "<a href=\"https://colab.research.google.com/github/nicole-kirimi/mini_tasks/blob/main/mini_lists.ipynb\" target=\"_parent\"><img src=\"https://colab.research.google.com/assets/colab-badge.svg\" alt=\"Open In Colab\"/></a>"
      ]
    },
    {
      "cell_type": "code",
      "execution_count": null,
      "id": "afeeed59-dc7d-4c3b-bae8-c608702583e3",
      "metadata": {
        "id": "afeeed59-dc7d-4c3b-bae8-c608702583e3"
      },
      "outputs": [],
      "source": [
        "# 1. Create a list of your 8 foods and store it in a variable called foods.\n",
        "# pizza cake banana kales pizza chicken beef\n",
        "foods = [\"pizza\", \"cake\", \"banana\", \"kales\", \"fish\", \"chicken\", \"beef\", \"pork\"]"
      ]
    },
    {
      "cell_type": "code",
      "execution_count": null,
      "id": "99dc3ac5-da15-4898-9512-c2fe3f9f271e",
      "metadata": {
        "id": "99dc3ac5-da15-4898-9512-c2fe3f9f271e",
        "colab": {
          "base_uri": "https://localhost:8080/"
        },
        "outputId": "fe2e640d-0414-4c69-833d-2f47a2596302"
      },
      "outputs": [
        {
          "output_type": "stream",
          "name": "stdout",
          "text": [
            "pizza\n",
            "pork\n"
          ]
        }
      ],
      "source": [
        "# 1.1. Print the first and last item in the foods list.\n",
        "print(foods[0])\n",
        "print(foods[7])"
      ]
    },
    {
      "cell_type": "code",
      "execution_count": null,
      "id": "d0397985-bbc5-44a8-8598-d85a80b01687",
      "metadata": {
        "id": "d0397985-bbc5-44a8-8598-d85a80b01687",
        "colab": {
          "base_uri": "https://localhost:8080/"
        },
        "outputId": "00bee1ab-acb0-48aa-f2d9-0a49e0d30e5e"
      },
      "outputs": [
        {
          "output_type": "stream",
          "name": "stdout",
          "text": [
            "['pizza', 'cake', 'apple', 'kales', 'fish', 'chicken', 'beef', 'pork']\n"
          ]
        }
      ],
      "source": [
        "# 1.2. Replace the third item in the list with another food.\n",
        "foods[2] = \"apple\"\n",
        "print(foods)"
      ]
    },
    {
      "cell_type": "code",
      "execution_count": null,
      "id": "4794318d-827d-4a4c-ba5a-9e8ecb078e1b",
      "metadata": {
        "id": "4794318d-827d-4a4c-ba5a-9e8ecb078e1b",
        "colab": {
          "base_uri": "https://localhost:8080/"
        },
        "outputId": "fbbd48f8-6dfa-43dd-cfa3-3fa08330703c"
      },
      "outputs": [
        {
          "output_type": "stream",
          "name": "stdout",
          "text": [
            "['pizza', 'cake', 'apple', 'kales', 'fish', 'chicken', 'beef', 'pork', 'watermelon']\n"
          ]
        }
      ],
      "source": [
        "# 1.3. Add a new food to the end of the list using .append().\n",
        "foods.append(\"watermelon\")\n",
        "print(foods)"
      ]
    },
    {
      "cell_type": "code",
      "execution_count": null,
      "id": "53bbba42-1d27-4f7b-9db7-61f2335ec42b",
      "metadata": {
        "id": "53bbba42-1d27-4f7b-9db7-61f2335ec42b",
        "colab": {
          "base_uri": "https://localhost:8080/"
        },
        "outputId": "138a4cb8-ce59-4005-a2d1-1e5f352479ce"
      },
      "outputs": [
        {
          "output_type": "stream",
          "name": "stdout",
          "text": [
            "['pizza', 'cake', 'apple', 'fish', 'chicken', 'beef', 'pork', 'watermelon']\n"
          ]
        }
      ],
      "source": [
        "# 1.4. Remove one food from the list using .remove().\n",
        "foods.remove(\"kales\")\n",
        "print(foods)"
      ]
    },
    {
      "cell_type": "code",
      "execution_count": null,
      "id": "0bc216e8-fb4f-43a8-a931-2d2a8378aca4",
      "metadata": {
        "id": "0bc216e8-fb4f-43a8-a931-2d2a8378aca4",
        "colab": {
          "base_uri": "https://localhost:8080/"
        },
        "outputId": "0579ca9f-58ec-40b9-aed0-147af372ecae"
      },
      "outputs": [
        {
          "output_type": "stream",
          "name": "stdout",
          "text": [
            "pizza\n",
            "cake\n",
            "apple\n",
            "fish\n",
            "chicken\n",
            "beef\n",
            "pork\n",
            "watermelon\n"
          ]
        }
      ],
      "source": [
        "# 1.5. Use a for loop to print each item in the list on a new line.\n",
        "for food in foods:\n",
        "    print(food)"
      ]
    },
    {
      "cell_type": "code",
      "execution_count": null,
      "id": "0d187ba2-1c54-47a6-ad7a-ccfcec3c1055",
      "metadata": {
        "id": "0d187ba2-1c54-47a6-ad7a-ccfcec3c1055",
        "colab": {
          "base_uri": "https://localhost:8080/"
        },
        "outputId": "13e8c133-4518-4628-84df-c38cc50f7a3e"
      },
      "outputs": [
        {
          "output_type": "stream",
          "name": "stdout",
          "text": [
            "apple\n"
          ]
        }
      ],
      "source": [
        "# 1.6. Use a loop to print only the foods that start with the letter \"a\".\n",
        "for food in foods:\n",
        "    if food.startswith(\"a\"):\n",
        "        print(food)"
      ]
    },
    {
      "cell_type": "code",
      "execution_count": null,
      "id": "2a69be21-6d6c-467c-a4d4-331fae66a85c",
      "metadata": {
        "id": "2a69be21-6d6c-467c-a4d4-331fae66a85c",
        "colab": {
          "base_uri": "https://localhost:8080/"
        },
        "outputId": "70b75c5b-0182-482f-fdfb-cfd06123f8dd"
      },
      "outputs": [
        {
          "output_type": "stream",
          "name": "stdout",
          "text": [
            "1\n"
          ]
        }
      ],
      "source": [
        "# 1.7. Count how many times \"pizza\" appears in the list.\n",
        "pizza_count = foods.count(\"pizza\")\n",
        "print(pizza_count)"
      ]
    },
    {
      "cell_type": "code",
      "execution_count": null,
      "id": "4d4ba594-6eef-48ca-a1a8-461343e841f8",
      "metadata": {
        "id": "4d4ba594-6eef-48ca-a1a8-461343e841f8",
        "colab": {
          "base_uri": "https://localhost:8080/"
        },
        "outputId": "182bf3ee-acbb-498b-f839-ed6f8f5e1b02"
      },
      "outputs": [
        {
          "output_type": "stream",
          "name": "stdout",
          "text": [
            "['cake', 'apple', 'fish']\n"
          ]
        }
      ],
      "source": [
        "# 1.8. Print the second to fourth items using slicing.\n",
        "# Remember that slicing is getting a range of values using the square brackets and index\n",
        "print(foods[1:4])"
      ]
    },
    {
      "cell_type": "code",
      "execution_count": null,
      "id": "c8f9673f-5eed-4978-8edf-3c5d502c3e7c",
      "metadata": {
        "id": "c8f9673f-5eed-4978-8edf-3c5d502c3e7c",
        "colab": {
          "base_uri": "https://localhost:8080/"
        },
        "outputId": "55bf10ad-e0ad-432d-fc80-78a009b4f373"
      },
      "outputs": [
        {
          "output_type": "stream",
          "name": "stdout",
          "text": [
            "['watermelon', 'pork', 'beef', 'chicken', 'fish', 'apple', 'cake', 'pizza']\n"
          ]
        }
      ],
      "source": [
        "# 1.9. Print the list in reverse using slicing.\n",
        "print(foods[::-1])"
      ]
    },
    {
      "cell_type": "code",
      "execution_count": null,
      "id": "38f790ac-eb70-4a0d-b2a1-6fe58ebb1ceb",
      "metadata": {
        "id": "38f790ac-eb70-4a0d-b2a1-6fe58ebb1ceb"
      },
      "outputs": [],
      "source": [
        "# 2. Create a list of numbers: 5 2 9 1 7\n",
        "numbers = [5, 2, 9, 1, 7]"
      ]
    },
    {
      "cell_type": "code",
      "execution_count": null,
      "id": "49112858-2921-4edb-b3ee-87807966ca01",
      "metadata": {
        "id": "49112858-2921-4edb-b3ee-87807966ca01",
        "colab": {
          "base_uri": "https://localhost:8080/"
        },
        "outputId": "ec647da3-137f-489f-8f6a-3863959e537a"
      },
      "outputs": [
        {
          "output_type": "stream",
          "name": "stdout",
          "text": [
            "24\n",
            "9\n",
            "1\n"
          ]
        }
      ],
      "source": [
        "# 2.1 Use the following functions:\n",
        "# sum() to calculate total\n",
        "# max() to find the highest\n",
        "# min() to find the smallest\n",
        "sum_numbers = sum(numbers)\n",
        "max_numbers = max(numbers)\n",
        "min_numbers = min(numbers)\n",
        "print(sum_numbers)\n",
        "print(max_numbers)\n",
        "print(min_numbers)"
      ]
    },
    {
      "cell_type": "code",
      "execution_count": null,
      "id": "5d737597-d5e5-47ef-9347-5968b9096817",
      "metadata": {
        "id": "5d737597-d5e5-47ef-9347-5968b9096817",
        "colab": {
          "base_uri": "https://localhost:8080/"
        },
        "outputId": "e1b78cbc-8bd3-40b1-9cf7-b9dc8076783c"
      },
      "outputs": [
        {
          "output_type": "stream",
          "name": "stdout",
          "text": [
            "[1, 2, 5, 7, 9]\n",
            "[9, 7, 5, 2, 1]\n"
          ]
        }
      ],
      "source": [
        "# 2.2. Sort the list in ascending and descending order using .sort() and .reverse().\n",
        "# In ascending order\n",
        "numbers.sort()\n",
        "print(numbers)\n",
        "\n",
        "# In descending order\n",
        "numbers.reverse()\n",
        "print(numbers)"
      ]
    },
    {
      "cell_type": "code",
      "execution_count": null,
      "id": "be0a25a2-c415-409c-bd50-681b668ad678",
      "metadata": {
        "id": "be0a25a2-c415-409c-bd50-681b668ad678",
        "colab": {
          "base_uri": "https://localhost:8080/"
        },
        "outputId": "1afc6fb1-a505-4186-e112-949fe871efce"
      },
      "outputs": [
        {
          "output_type": "stream",
          "name": "stdout",
          "text": [
            "[9, 7, 10, 5, 2, 1]\n"
          ]
        }
      ],
      "source": [
        "# 2.3. Use .insert() to add the number 10 at index 2.\n",
        "numbers.insert(2, 10)\n",
        "print(numbers)"
      ]
    },
    {
      "cell_type": "code",
      "execution_count": null,
      "id": "226d1f17-52d0-4e88-a57d-dae06cb775b9",
      "metadata": {
        "id": "226d1f17-52d0-4e88-a57d-dae06cb775b9",
        "colab": {
          "base_uri": "https://localhost:8080/"
        },
        "outputId": "873520c2-85cf-4b02-e943-8e09282798ff"
      },
      "outputs": [
        {
          "output_type": "stream",
          "name": "stdout",
          "text": [
            "Alice 85\n",
            "Bob 78\n",
            "Charlie 92\n"
          ]
        }
      ],
      "source": [
        "# 3. Create the nested list of students below and their scores:\n",
        "# then print each student's name and score using a loop.\n",
        "students = [[\"Alice\", 85], [\"Bob\", 78], [\"Charlie\", 92]]\n",
        "for student in students:\n",
        "    print(student[0], student[1])"
      ]
    },
    {
      "cell_type": "code",
      "execution_count": null,
      "id": "a5d23639-9eee-4907-b6dc-572a2d36177a",
      "metadata": {
        "id": "a5d23639-9eee-4907-b6dc-572a2d36177a",
        "colab": {
          "base_uri": "https://localhost:8080/"
        },
        "outputId": "30cf42fe-ca83-4cd4-aa2a-ffe22499731f"
      },
      "outputs": [
        {
          "output_type": "stream",
          "name": "stdout",
          "text": [
            "Charlie 92\n"
          ]
        }
      ],
      "source": [
        "# 3.1. Find the student with the highest score.\n",
        "highest_score = 0\n",
        "highest_student = \"\"\n",
        "for student in students:\n",
        "    if student[1] > highest_score:\n",
        "        highest_score = student[1]\n",
        "        highest_student = student[0]\n",
        "print(highest_student, highest_score)"
      ]
    },
    {
      "cell_type": "code",
      "execution_count": null,
      "id": "8ac139d5-fb73-433e-be6c-66ec9734c83b",
      "metadata": {
        "id": "8ac139d5-fb73-433e-be6c-66ec9734c83b",
        "colab": {
          "base_uri": "https://localhost:8080/"
        },
        "outputId": "3aa7d00f-942a-4298-ea1a-7814787a72ea"
      },
      "outputs": [
        {
          "output_type": "stream",
          "name": "stdout",
          "text": [
            "Enter integer number 1: 2\n",
            "Enter integer number 2: 3\n",
            "Enter integer number 3: \n",
            "Invalid input. Please enter a whole number.\n",
            "Enter integer number 3: 4\n",
            "Enter integer number 4: 5\n",
            "Enter integer number 5: 6\n",
            "You entered: [2, 3, 4, 5, 6]\n"
          ]
        }
      ],
      "source": [
        "# 4. Write a function that asks the user to enter 5 numbers and stores them in a list.\n",
        "def get_five_numbers():\n",
        "    numbers = []\n",
        "    for i in range(5):\n",
        "        while True:\n",
        "            try:\n",
        "                num = int(input(f\"Enter integer number {i + 1}: \"))\n",
        "                numbers.append(num)\n",
        "                break\n",
        "            except ValueError:\n",
        "                print(\"Invalid input. Please enter a whole number.\")\n",
        "    return numbers\n",
        "\n",
        "# Example usage\n",
        "user_numbers = get_five_numbers()\n",
        "print(\"You entered:\", user_numbers)\n"
      ]
    },
    {
      "cell_type": "code",
      "execution_count": null,
      "id": "87f7cd84-9e40-43c3-bec6-5b65a7695334",
      "metadata": {
        "id": "87f7cd84-9e40-43c3-bec6-5b65a7695334",
        "colab": {
          "base_uri": "https://localhost:8080/"
        },
        "outputId": "718edf20-6f2d-449a-c552-b69c4ac359f3"
      },
      "outputs": [
        {
          "output_type": "execute_result",
          "data": {
            "text/plain": [
              "[3, 5]"
            ]
          },
          "metadata": {},
          "execution_count": 36
        }
      ],
      "source": [
        "# 4.1. Write a function that removes all even numbers from the list provided by the user.\n",
        "def remove_even_numbers(numbers):\n",
        "    return [num for num in numbers if num % 2 != 0]\n",
        "remove_even_numbers(user_numbers)"
      ]
    },
    {
      "cell_type": "code",
      "execution_count": null,
      "id": "b7dfad1c-b60a-450b-a56b-c4a43c50dfdb",
      "metadata": {
        "id": "b7dfad1c-b60a-450b-a56b-c4a43c50dfdb",
        "colab": {
          "base_uri": "https://localhost:8080/"
        },
        "outputId": "aa97cc66-2796-4635-8e68-47818f746f95"
      },
      "outputs": [
        {
          "output_type": "stream",
          "name": "stdout",
          "text": [
            "[1, 2, 3, 4, 5, 6]\n"
          ]
        }
      ],
      "source": [
        "# 5. Merge two lists:\n",
        "list1 = [1, 2, 3]\n",
        "list2 = [4, 5, 6]\n",
        "merged = list1 + list2\n",
        "print(merged)"
      ]
    },
    {
      "cell_type": "code",
      "execution_count": null,
      "id": "dd94be4f-dadb-4134-a7d7-d15b4c20657c",
      "metadata": {
        "id": "dd94be4f-dadb-4134-a7d7-d15b4c20657c",
        "colab": {
          "base_uri": "https://localhost:8080/"
        },
        "outputId": "e7a702a7-3f88-4ea3-f629-6bd04fe258fb"
      },
      "outputs": [
        {
          "output_type": "stream",
          "name": "stdout",
          "text": [
            "Enter a student name (type 'stop' to finish): Nicole\n",
            "Enter a student name (type 'stop' to finish): Hope\n",
            "Enter a student name (type 'stop' to finish): Natasha\n",
            "Enter a student name (type 'stop' to finish): stop\n",
            "Student names: ['Nicole', 'Hope', 'Natasha']\n"
          ]
        }
      ],
      "source": [
        "# 6. Ask the user to input student names until they type \"stop\". Store all names in a list and print it at the end.\n",
        "names = []\n",
        "while True:\n",
        "    name = input(\"Enter a student name (type 'stop' to finish): \")\n",
        "    if name == \"stop\":\n",
        "        break\n",
        "    names.append(name)\n",
        "print(\"Student names:\", names)"
      ]
    },
    {
      "cell_type": "code",
      "execution_count": null,
      "id": "cede72a7-6309-474f-a110-9c3a1bd9ea94",
      "metadata": {
        "id": "cede72a7-6309-474f-a110-9c3a1bd9ea94",
        "colab": {
          "base_uri": "https://localhost:8080/"
        },
        "outputId": "30c584db-78bd-4825-e92a-a737faa35b7c"
      },
      "outputs": [
        {
          "output_type": "stream",
          "name": "stdout",
          "text": [
            "Nicole\n",
            "Natasha\n"
          ]
        }
      ],
      "source": [
        "# 6.1. From the list of names, print only those that are longer than 5 characters.\n",
        "for name in names:\n",
        "    if len(name) > 5:\n",
        "        print(name)"
      ]
    }
  ],
  "metadata": {
    "kernelspec": {
      "display_name": "Python [conda env:base] *",
      "language": "python",
      "name": "conda-base-py"
    },
    "language_info": {
      "codemirror_mode": {
        "name": "ipython",
        "version": 3
      },
      "file_extension": ".py",
      "mimetype": "text/x-python",
      "name": "python",
      "nbconvert_exporter": "python",
      "pygments_lexer": "ipython3",
      "version": "3.12.7"
    },
    "colab": {
      "provenance": [],
      "include_colab_link": true
    }
  },
  "nbformat": 4,
  "nbformat_minor": 5
}