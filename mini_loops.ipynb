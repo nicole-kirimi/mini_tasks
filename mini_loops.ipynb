{
  "cells": [
    {
      "cell_type": "markdown",
      "metadata": {
        "id": "view-in-github",
        "colab_type": "text"
      },
      "source": [
        "<a href=\"https://colab.research.google.com/github/nicole-kirimi/mini_tasks/blob/main/mini_loops.ipynb\" target=\"_parent\"><img src=\"https://colab.research.google.com/assets/colab-badge.svg\" alt=\"Open In Colab\"/></a>"
      ]
    },
    {
      "cell_type": "code",
      "execution_count": null,
      "id": "fadb41fd-49ce-4cd7-b15c-8538d0d6e758",
      "metadata": {
        "jp-MarkdownHeadingCollapsed": true,
        "id": "fadb41fd-49ce-4cd7-b15c-8538d0d6e758",
        "colab": {
          "base_uri": "https://localhost:8080/"
        },
        "outputId": "33ccde3c-6186-4430-da61-14c4230b9bd5"
      },
      "outputs": [
        {
          "output_type": "stream",
          "name": "stdout",
          "text": [
            "1\n",
            "2\n",
            "3\n",
            "4\n",
            "5\n",
            "6\n",
            "7\n",
            "8\n",
            "9\n",
            "10\n"
          ]
        }
      ],
      "source": [
        "# 1. Print numbers from 1 to 10\n",
        "# Output:\n",
        "# 1\n",
        "# 2\n",
        "# ...\n",
        "# 10\n",
        "for i in range(1, 11):\n",
        "    print(i)"
      ]
    },
    {
      "cell_type": "code",
      "execution_count": null,
      "id": "f9399dde-a7a3-4918-baf3-ff7b35eded7f",
      "metadata": {
        "jp-MarkdownHeadingCollapsed": true,
        "id": "f9399dde-a7a3-4918-baf3-ff7b35eded7f",
        "colab": {
          "base_uri": "https://localhost:8080/"
        },
        "outputId": "478f7d76-50ef-46dd-b251-e6f987346e5c"
      },
      "outputs": [
        {
          "output_type": "stream",
          "name": "stdout",
          "text": [
            "2\n",
            "4\n",
            "6\n",
            "8\n",
            "10\n",
            "12\n",
            "14\n",
            "16\n",
            "18\n",
            "20\n"
          ]
        }
      ],
      "source": [
        "# 2. Print even numbers between 1 and 20\n",
        "# Output:\n",
        "# 2, 4, 6, ..., 20\n",
        "for i in range(2, 21, 2):\n",
        "    print(i)\n"
      ]
    },
    {
      "cell_type": "code",
      "source": [
        "# 3. Print the square of numbers from 1 to 5\n",
        "# Output:\n",
        "# 1 4 9 16 25\n",
        "for i in range(1, 6):\n",
        "    print(i**2)"
      ],
      "metadata": {
        "colab": {
          "base_uri": "https://localhost:8080/"
        },
        "id": "o_cVzSt445JI",
        "outputId": "315515d7-ab02-4ceb-f03b-47151f7a02d5"
      },
      "id": "o_cVzSt445JI",
      "execution_count": null,
      "outputs": [
        {
          "output_type": "stream",
          "name": "stdout",
          "text": [
            "1\n",
            "4\n",
            "9\n",
            "16\n",
            "25\n"
          ]
        }
      ]
    },
    {
      "cell_type": "code",
      "execution_count": null,
      "id": "d5ee7226-239e-45fe-86a9-a9f37a7dded1",
      "metadata": {
        "jp-MarkdownHeadingCollapsed": true,
        "id": "d5ee7226-239e-45fe-86a9-a9f37a7dded1",
        "colab": {
          "base_uri": "https://localhost:8080/"
        },
        "outputId": "1de0fcf8-f46a-47f1-bab8-6b7a70246425"
      },
      "outputs": [
        {
          "output_type": "stream",
          "name": "stdout",
          "text": [
            "P\n",
            "y\n",
            "t\n",
            "h\n",
            "o\n",
            "n\n"
          ]
        }
      ],
      "source": [
        "# 4. Print each character in the word \"Python\"\n",
        "# Output:\n",
        "# P\n",
        "# y\n",
        "# t\n",
        "# h\n",
        "# o\n",
        "# n\n",
        "word = \"Python\"\n",
        "for character in word:\n",
        "    print(character)"
      ]
    },
    {
      "cell_type": "code",
      "execution_count": null,
      "id": "cecef65b-7f15-44a8-a92d-cd9dcb036ae7",
      "metadata": {
        "jp-MarkdownHeadingCollapsed": true,
        "id": "cecef65b-7f15-44a8-a92d-cd9dcb036ae7",
        "colab": {
          "base_uri": "https://localhost:8080/"
        },
        "outputId": "3f60a240-8b7f-4944-f3cf-5525feb52065"
      },
      "outputs": [
        {
          "output_type": "stream",
          "name": "stdout",
          "text": [
            "Alice\n",
            "Bob\n",
            "Charlie\n"
          ]
        }
      ],
      "source": [
        "# 5. Loop through this list and print names:\n",
        "names = [\"Alice\", \"Bob\", \"Charlie\"]\n",
        "for name in names:\n",
        "    print(name)"
      ]
    },
    {
      "cell_type": "code",
      "execution_count": null,
      "id": "2a5f2161-dcbd-4440-a262-0866f39a1a98",
      "metadata": {
        "jp-MarkdownHeadingCollapsed": true,
        "id": "2a5f2161-dcbd-4440-a262-0866f39a1a98",
        "colab": {
          "base_uri": "https://localhost:8080/"
        },
        "outputId": "dbd84c91-a568-4046-d2f9-2e16f1c46554"
      },
      "outputs": [
        {
          "output_type": "stream",
          "name": "stdout",
          "text": [
            "5\n",
            "4\n",
            "3\n",
            "2\n",
            "1\n"
          ]
        }
      ],
      "source": [
        "# 6. Print numbers from 5 to 1\n",
        "# Output:\n",
        "# 5\n",
        "# 4\n",
        "# 3\n",
        "# 2\n",
        "# 1\n",
        "for i in range(5, 0, -1):\n",
        "    print(i)"
      ]
    },
    {
      "cell_type": "code",
      "execution_count": null,
      "id": "a0e44b26-12b4-4975-9402-642473541d0a",
      "metadata": {
        "jp-MarkdownHeadingCollapsed": true,
        "id": "a0e44b26-12b4-4975-9402-642473541d0a",
        "colab": {
          "base_uri": "https://localhost:8080/"
        },
        "outputId": "3ff5fa16-1a04-44b0-ed3d-ac6e51091d50"
      },
      "outputs": [
        {
          "output_type": "stream",
          "name": "stdout",
          "text": [
            "Enter a password: rt\n",
            "Try again...\n",
            "Enter a password: secret\n",
            "Access granted!\n"
          ]
        }
      ],
      "source": [
        "# 7. Keep asking the user to enter a password until they type \"secret\"\n",
        "# Output:\n",
        "# Try again... until correct\n",
        "password = input(\"Enter a password: \")\n",
        "while password != \"secret\":\n",
        "    print(\"Try again\")\n",
        "    password = input(\"Enter a password: \")\n",
        "print(\"Access granted!\")"
      ]
    },
    {
      "cell_type": "code",
      "execution_count": null,
      "id": "cb82d589-6bb5-4cb8-9e03-cb875dd26aaa",
      "metadata": {
        "jp-MarkdownHeadingCollapsed": true,
        "id": "cb82d589-6bb5-4cb8-9e03-cb875dd26aaa",
        "colab": {
          "base_uri": "https://localhost:8080/"
        },
        "outputId": "dc2862e0-4229-4ea3-9840-2bce4d6e8b19"
      },
      "outputs": [
        {
          "output_type": "stream",
          "name": "stdout",
          "text": [
            "Enter a number: 5\n",
            "Enter a number: 3\n",
            "Enter a number: 0\n",
            "Total: 8\n"
          ]
        }
      ],
      "source": [
        "# 8. Ask the user to enter numbers until they enter 0. Then print the sum.\n",
        "# Input:\n",
        "# 5\n",
        "# 3\n",
        "# 0\n",
        "# Output:\n",
        "# Total: 8\n",
        "total = 0\n",
        "number = int(input(\"Enter a number: \"))\n",
        "while number != 0:\n",
        "    total += number\n",
        "    number = int(input(\"Enter a number: \"))\n",
        "print(\"Total:\", total)"
      ]
    },
    {
      "cell_type": "code",
      "execution_count": null,
      "id": "cf65e3cb-bbbf-4fe2-83ab-4b39059c09e7",
      "metadata": {
        "jp-MarkdownHeadingCollapsed": true,
        "id": "cf65e3cb-bbbf-4fe2-83ab-4b39059c09e7",
        "colab": {
          "base_uri": "https://localhost:8080/"
        },
        "outputId": "d921f597-d687-48d1-92c0-999bf84f4e1c"
      },
      "outputs": [
        {
          "output_type": "stream",
          "name": "stdout",
          "text": [
            "3\n",
            "6\n",
            "9\n",
            "12\n",
            "15\n",
            "18\n"
          ]
        }
      ],
      "source": [
        "# 9. Print all numbers from 1 to 20 that are divisible by 3\n",
        "# Output:\n",
        "# 3 6 9 12 15 18\n",
        "for i in range(3, 21, 3):\n",
        "    print(i)"
      ]
    },
    {
      "cell_type": "code",
      "execution_count": null,
      "id": "2d6e59ea-9f9d-4f46-aa30-16e564ce52f2",
      "metadata": {
        "jp-MarkdownHeadingCollapsed": true,
        "id": "2d6e59ea-9f9d-4f46-aa30-16e564ce52f2",
        "colab": {
          "base_uri": "https://localhost:8080/"
        },
        "outputId": "6dd64050-5e79-4d27-b8fa-f087284aa670"
      },
      "outputs": [
        {
          "output_type": "stream",
          "name": "stdout",
          "text": [
            "[7, 13, 19]\n"
          ]
        }
      ],
      "source": [
        "# 10. From this list, print only the odd numbers:\n",
        "numbers = [4, 7, 10, 13, 16, 19]\n",
        "odd_numbers = []\n",
        "for number in numbers:\n",
        "    if number % 2 != 0:\n",
        "        odd_numbers.append(number)\n",
        "print(odd_numbers)"
      ]
    },
    {
      "cell_type": "code",
      "execution_count": null,
      "id": "88d0a54e-de16-4c70-9600-c1e0747353dc",
      "metadata": {
        "jp-MarkdownHeadingCollapsed": true,
        "id": "88d0a54e-de16-4c70-9600-c1e0747353dc",
        "colab": {
          "base_uri": "https://localhost:8080/"
        },
        "outputId": "9bd765e4-6f5b-486b-a480-fece5f8dd1b2"
      },
      "outputs": [
        {
          "output_type": "stream",
          "name": "stdout",
          "text": [
            "apple appears 3 times\n"
          ]
        }
      ],
      "source": [
        "# 11. Count how many times \"apple\" appears in the list:\n",
        "fruits = [\"apple\", \"banana\", \"apple\", \"cherry\", \"apple\"]\n",
        "count = 0\n",
        "for fruit in fruits:\n",
        "    if fruit == \"apple\":\n",
        "        count += 1\n",
        "print(\"apple appears\", count, \"times\")"
      ]
    },
    {
      "cell_type": "code",
      "execution_count": null,
      "id": "07708d8b-e871-49cd-b93e-da49b64b6b54",
      "metadata": {
        "jp-MarkdownHeadingCollapsed": true,
        "id": "07708d8b-e871-49cd-b93e-da49b64b6b54",
        "colab": {
          "base_uri": "https://localhost:8080/"
        },
        "outputId": "c68dcb12-5e22-4772-ec07-6ed95e0d39b0"
      },
      "outputs": [
        {
          "output_type": "stream",
          "name": "stdout",
          "text": [
            "olleh\n"
          ]
        }
      ],
      "source": [
        "# 12. Use a loop to reverse a string:\n",
        "# Input:\n",
        "# \"hello\"\n",
        "# Output:\n",
        "# \"olleh\"\n",
        "word = \"hello\"\n",
        "reversed_word = \"\"\n",
        "for i in range(len(word)-1, -1, -1):\n",
        "    reversed_word += word[i]\n",
        "print(reversed_word)"
      ]
    },
    {
      "cell_type": "code",
      "execution_count": null,
      "id": "04919b85-d347-4bf2-985b-bfba021b37ac",
      "metadata": {
        "jp-MarkdownHeadingCollapsed": true,
        "id": "04919b85-d347-4bf2-985b-bfba021b37ac",
        "colab": {
          "base_uri": "https://localhost:8080/"
        },
        "outputId": "46dd5adf-3307-4ddd-801c-e83dc47e66f6"
      },
      "outputs": [
        {
          "output_type": "stream",
          "name": "stdout",
          "text": [
            "*\n",
            "**\n",
            "***\n",
            "****\n",
            "*****\n"
          ]
        }
      ],
      "source": [
        "# 13. Print a simple triangle of stars:\n",
        "# Output:\n",
        "# *\n",
        "# **\n",
        "# ***\n",
        "# ****\n",
        "# *****\n",
        "for i in range(1, 6):\n",
        "    print(\"*\" * i)"
      ]
    },
    {
      "cell_type": "code",
      "execution_count": null,
      "id": "e943a0c7-96c3-42d9-a56c-8154e1fa57ac",
      "metadata": {
        "jp-MarkdownHeadingCollapsed": true,
        "id": "e943a0c7-96c3-42d9-a56c-8154e1fa57ac",
        "colab": {
          "base_uri": "https://localhost:8080/"
        },
        "outputId": "e8b12312-ec19-4574-a5b6-ead6218c3f7a"
      },
      "outputs": [
        {
          "output_type": "stream",
          "name": "stdout",
          "text": [
            "Enter a number: 5\n",
            "120\n"
          ]
        }
      ],
      "source": [
        "# 14. Use a loop to calculate the factorial of a number:\n",
        "# Input:\n",
        "# 5\n",
        "# Output:\n",
        "# 120\n",
        "number = int(input(\"Enter a number: \"))\n",
        "factorial = 1\n",
        "for i in range(1, number+1):\n",
        "    factorial *= i\n",
        "print(factorial)"
      ]
    },
    {
      "cell_type": "code",
      "execution_count": null,
      "id": "e1d18ff1-abcc-46ac-8c52-07228657ef49",
      "metadata": {
        "jp-MarkdownHeadingCollapsed": true,
        "id": "e1d18ff1-abcc-46ac-8c52-07228657ef49",
        "colab": {
          "base_uri": "https://localhost:8080/"
        },
        "outputId": "0a6c9ccf-973d-47e7-c974-df9144fe048e"
      },
      "outputs": [
        {
          "output_type": "stream",
          "name": "stdout",
          "text": [
            "1\n",
            "2\n",
            "Hit\n",
            "4\n",
            "Miss\n",
            "Hit\n",
            "7\n",
            "8\n",
            "Hit\n",
            "Miss\n",
            "11\n",
            "Hit\n",
            "13\n",
            "14\n",
            "Jackpot\n",
            "16\n",
            "17\n",
            "Hit\n",
            "19\n",
            "Miss\n",
            "Hit\n",
            "22\n",
            "23\n",
            "Hit\n",
            "Miss\n",
            "26\n",
            "Hit\n",
            "28\n",
            "29\n",
            "Jackpot\n",
            "31\n",
            "32\n",
            "Hit\n",
            "34\n",
            "Miss\n",
            "Hit\n",
            "37\n",
            "38\n",
            "Hit\n",
            "Miss\n",
            "41\n",
            "Hit\n",
            "43\n",
            "44\n",
            "Jackpot\n",
            "46\n",
            "47\n",
            "Hit\n",
            "49\n",
            "Miss\n",
            "Hit\n",
            "52\n",
            "53\n",
            "Hit\n",
            "Miss\n",
            "56\n",
            "Hit\n",
            "58\n",
            "59\n",
            "Jackpot\n",
            "61\n",
            "62\n",
            "Hit\n",
            "64\n",
            "Miss\n",
            "Hit\n",
            "67\n",
            "68\n",
            "Hit\n",
            "Miss\n",
            "71\n",
            "Hit\n",
            "73\n",
            "74\n",
            "Jackpot\n",
            "76\n",
            "77\n",
            "Hit\n",
            "79\n",
            "Miss\n",
            "Hit\n",
            "82\n",
            "83\n",
            "Hit\n",
            "Miss\n",
            "86\n",
            "Hit\n",
            "88\n",
            "89\n",
            "Jackpot\n",
            "91\n",
            "92\n",
            "Hit\n",
            "94\n",
            "Miss\n",
            "Hit\n",
            "97\n",
            "98\n",
            "Hit\n",
            "Miss\n"
          ]
        }
      ],
      "source": [
        "#15. Loop from 1 to 100 and:\n",
        "# Print \"Hit\" if divisible by 3\n",
        "# Print \"Miss\" if divisible by 5\n",
        "# Print \"Jackpot\" if divisible by both\n",
        "for i in range(1, 101):\n",
        "    if i % 3 == 0 and i % 5 == 0:\n",
        "        print(\"Jackpot\")\n",
        "    elif i % 3 == 0:\n",
        "        print(\"Hit\")\n",
        "    elif i % 5 == 0:\n",
        "        print(\"Miss\")\n",
        "    else:\n",
        "        print(i)\n"
      ]
    },
    {
      "cell_type": "code",
      "execution_count": null,
      "id": "9c87b775-4ba0-4730-9a88-d6f9cb46ec49",
      "metadata": {
        "jp-MarkdownHeadingCollapsed": true,
        "id": "9c87b775-4ba0-4730-9a88-d6f9cb46ec49",
        "colab": {
          "base_uri": "https://localhost:8080/"
        },
        "outputId": "0f5ee785-e9f5-4f21-f37b-ec3b47e76c0b"
      },
      "outputs": [
        {
          "output_type": "stream",
          "name": "stdout",
          "text": [
            "How many students are in the class? 3\n",
            "Enter name of student 1: Nicole\n",
            "Enter name of student 2: Suzie\n",
            "Enter name of student 3: Hope\n",
            "\n",
            "List of students:\n",
            "['Nicole', 'Suzie', 'Hope']\n"
          ]
        }
      ],
      "source": [
        "# 16. Ask the user how many students are in a class. Then loop to enter each student’s name and save them to a list. Finally, print the list of students.\n",
        "def collect_student_names():\n",
        "    students = []\n",
        "    try:\n",
        "        count = int(input(\"How many students are in the class? \"))\n",
        "        for i in range(count):\n",
        "            name = input(f\"Enter name of student {i + 1}: \")\n",
        "            students.append(name)\n",
        "        print(\"\\nList of students:\")\n",
        "        print(students)\n",
        "    except ValueError:\n",
        "        print(\"Please enter a valid number.\")\n",
        "\n",
        "# Run the function\n",
        "collect_student_names()\n"
      ]
    },
    {
      "cell_type": "code",
      "execution_count": null,
      "id": "3866510c-82f0-4a99-8b41-caf51e945b87",
      "metadata": {
        "id": "3866510c-82f0-4a99-8b41-caf51e945b87"
      },
      "outputs": [],
      "source": []
    }
  ],
  "metadata": {
    "kernelspec": {
      "display_name": "Python [conda env:base] *",
      "language": "python",
      "name": "conda-base-py"
    },
    "language_info": {
      "codemirror_mode": {
        "name": "ipython",
        "version": 3
      },
      "file_extension": ".py",
      "mimetype": "text/x-python",
      "name": "python",
      "nbconvert_exporter": "python",
      "pygments_lexer": "ipython3",
      "version": "3.12.7"
    },
    "colab": {
      "provenance": [],
      "include_colab_link": true
    }
  },
  "nbformat": 4,
  "nbformat_minor": 5
}